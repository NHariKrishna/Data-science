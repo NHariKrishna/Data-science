{
 "cells": [
  {
   "cell_type": "code",
   "execution_count": 16,
   "metadata": {},
   "outputs": [],
   "source": [
    "import pandas as pd\n",
    "import numpy as np\n",
    "import os\n",
    "%matplotlib inline\n",
    "os.chdir(\"C:\\\\Users\\\\Poori\\\\Desktop\\\\Udemy\\\\A-Z Machine learning Kaggle\\\\KNN\")"
   ]
  },
  {
   "cell_type": "code",
   "execution_count": 17,
   "metadata": {},
   "outputs": [],
   "source": [
    "names = ['sepal_length', 'sepal_width', 'petal_length', 'petal_width', 'class']"
   ]
  },
  {
   "cell_type": "code",
   "execution_count": 18,
   "metadata": {},
   "outputs": [],
   "source": [
    "df = pd.read_csv('iris.csv', header = None, names = names)"
   ]
  },
  {
   "cell_type": "code",
   "execution_count": 19,
   "metadata": {},
   "outputs": [
    {
     "data": {
      "text/html": [
       "<div>\n",
       "<style scoped>\n",
       "    .dataframe tbody tr th:only-of-type {\n",
       "        vertical-align: middle;\n",
       "    }\n",
       "\n",
       "    .dataframe tbody tr th {\n",
       "        vertical-align: top;\n",
       "    }\n",
       "\n",
       "    .dataframe thead th {\n",
       "        text-align: right;\n",
       "    }\n",
       "</style>\n",
       "<table border=\"1\" class=\"dataframe\">\n",
       "  <thead>\n",
       "    <tr style=\"text-align: right;\">\n",
       "      <th></th>\n",
       "      <th>sepal_length</th>\n",
       "      <th>sepal_width</th>\n",
       "      <th>petal_length</th>\n",
       "      <th>petal_width</th>\n",
       "      <th>class</th>\n",
       "    </tr>\n",
       "  </thead>\n",
       "  <tbody>\n",
       "    <tr>\n",
       "      <th>0</th>\n",
       "      <td>5.1</td>\n",
       "      <td>3.5</td>\n",
       "      <td>1.4</td>\n",
       "      <td>0.2</td>\n",
       "      <td>Iris-setosa</td>\n",
       "    </tr>\n",
       "    <tr>\n",
       "      <th>1</th>\n",
       "      <td>4.9</td>\n",
       "      <td>3.0</td>\n",
       "      <td>1.4</td>\n",
       "      <td>0.2</td>\n",
       "      <td>Iris-setosa</td>\n",
       "    </tr>\n",
       "    <tr>\n",
       "      <th>2</th>\n",
       "      <td>4.7</td>\n",
       "      <td>3.2</td>\n",
       "      <td>1.3</td>\n",
       "      <td>0.2</td>\n",
       "      <td>Iris-setosa</td>\n",
       "    </tr>\n",
       "    <tr>\n",
       "      <th>3</th>\n",
       "      <td>4.6</td>\n",
       "      <td>3.1</td>\n",
       "      <td>1.5</td>\n",
       "      <td>0.2</td>\n",
       "      <td>Iris-setosa</td>\n",
       "    </tr>\n",
       "    <tr>\n",
       "      <th>4</th>\n",
       "      <td>5.0</td>\n",
       "      <td>3.6</td>\n",
       "      <td>1.4</td>\n",
       "      <td>0.2</td>\n",
       "      <td>Iris-setosa</td>\n",
       "    </tr>\n",
       "  </tbody>\n",
       "</table>\n",
       "</div>"
      ],
      "text/plain": [
       "   sepal_length  sepal_width  petal_length  petal_width        class\n",
       "0           5.1          3.5           1.4          0.2  Iris-setosa\n",
       "1           4.9          3.0           1.4          0.2  Iris-setosa\n",
       "2           4.7          3.2           1.3          0.2  Iris-setosa\n",
       "3           4.6          3.1           1.5          0.2  Iris-setosa\n",
       "4           5.0          3.6           1.4          0.2  Iris-setosa"
      ]
     },
     "execution_count": 19,
     "metadata": {},
     "output_type": "execute_result"
    }
   ],
   "source": [
    "df.head()"
   ]
  },
  {
   "cell_type": "code",
   "execution_count": 14,
   "metadata": {},
   "outputs": [],
   "source": [
    "#clss=pd.get_dummies(df[\"class\"],drop_first=True)\n",
    "#df = pd.concat([df,clss],axis=1)\n",
    "#df.drop(['class'],axis=1,inplace=True)"
   ]
  },
  {
   "cell_type": "code",
   "execution_count": 38,
   "metadata": {},
   "outputs": [],
   "source": [
    "df['is_train'] = np.random.uniform(0, 1, len(df)) <= .75"
   ]
  },
  {
   "cell_type": "code",
   "execution_count": 39,
   "metadata": {},
   "outputs": [],
   "source": [
    "train, test = df[df['is_train'] == True], df[df['is_train'] == False]"
   ]
  },
  {
   "cell_type": "code",
   "execution_count": 40,
   "metadata": {},
   "outputs": [
    {
     "name": "stdout",
     "output_type": "stream",
     "text": [
      "length of train dataset: 124\n",
      "length of test dataset: 26\n"
     ]
    }
   ],
   "source": [
    "print('length of train dataset: %d' %(len(train)))\n",
    "print('length of test dataset: %d' %(len(test)))"
   ]
  },
  {
   "cell_type": "code",
   "execution_count": 41,
   "metadata": {},
   "outputs": [
    {
     "data": {
      "text/plain": [
       "Index(['sepal_length', 'sepal_width', 'petal_length', 'petal_width', 'class',\n",
       "       'is_train'],\n",
       "      dtype='object')"
      ]
     },
     "execution_count": 41,
     "metadata": {},
     "output_type": "execute_result"
    }
   ],
   "source": [
    "train.columns"
   ]
  },
  {
   "cell_type": "code",
   "execution_count": 42,
   "metadata": {},
   "outputs": [],
   "source": [
    "train_x = train[train.columns[:len(train.columns) - 2]]\n",
    "train_y = train['class']"
   ]
  },
  {
   "cell_type": "code",
   "execution_count": 46,
   "metadata": {},
   "outputs": [],
   "source": [
    "test_x = test[test.columns[:len(test.columns) - 2]]\n",
    "test_y = test['class']"
   ]
  },
  {
   "cell_type": "code",
   "execution_count": 47,
   "metadata": {},
   "outputs": [],
   "source": [
    "def euclidean_distance(data1, data2):\n",
    "    distance = 0\n",
    "    for i in range(data2.shape[0]):\n",
    "        distance += np.square(data1[i] - data2[i])\n",
    "    return np.sqrt(distance)"
   ]
  },
  {
   "cell_type": "code",
   "execution_count": 49,
   "metadata": {},
   "outputs": [],
   "source": [
    "def manhattan_distance(data1, data2):\n",
    "    distance = 0\n",
    "    for i in range(data2.shape[0]):\n",
    "        distance += abs(data2[i] - data1[i])\n",
    "        \n",
    "    return distance"
   ]
  },
  {
   "cell_type": "code",
   "execution_count": 76,
   "metadata": {},
   "outputs": [],
   "source": [
    "from collections import Counter\n",
    "\n",
    "def knn(train_x, train_y, dis_func, sample, k):\n",
    "    distances = {}\n",
    "    \n",
    "    for i in range(len(train_x)):\n",
    "        d = dis_func(sample, train_x.iloc[i])\n",
    "        distances[i] = d\n",
    "    \n",
    "    sorted_dist = sorted(distances.items(), key = lambda x : (x[1], x[0]))\n",
    "    #print(sorted_dist)\n",
    "    #print(distances.items())\n",
    "    # take k nearest neighbors\n",
    "    neighbors = []\n",
    "    for i in range(k):\n",
    "        neighbors.append(sorted_dist[i][0])\n",
    "    \n",
    "    # convert indices into classes\n",
    "    classes = [train_y.iloc[c] for c in neighbors]\n",
    "    \n",
    "    # count each classes in top k\n",
    "    counts = Counter(classes)\n",
    "    #print(counts)\n",
    "    \n",
    "    # take vote of max number of samples of a class\n",
    "    list_values = list(counts.values())\n",
    "    list_keys = list(counts.keys())\n",
    "    cl = list_keys[list_values.index(max(list_values))]\n",
    "    \n",
    "    return cl"
   ]
  },
  {
   "cell_type": "code",
   "execution_count": 78,
   "metadata": {},
   "outputs": [],
   "source": [
    "sl = knn(train_x, train_y, manhattan_distance, test_x.iloc[3], 5)"
   ]
  },
  {
   "cell_type": "code",
   "execution_count": 54,
   "metadata": {},
   "outputs": [
    {
     "data": {
      "text/plain": [
       "'Iris-setosa'"
      ]
     },
     "execution_count": 54,
     "metadata": {},
     "output_type": "execute_result"
    }
   ],
   "source": [
    "test_y.iloc[3]"
   ]
  },
  {
   "cell_type": "code",
   "execution_count": 80,
   "metadata": {},
   "outputs": [],
   "source": [
    "def get_accuracy(test_x, test_y, train_x, train_y, k):\n",
    "    correct = 0\n",
    "    for i in range(len(test_x)):\n",
    "        sample = test_x.iloc[i]\n",
    "        true_label = test_y.iloc[i]\n",
    "        predicted_label_euclidean = knn(train_x, train_y, euclidean_distance, sample, k)\n",
    "        if predicted_label_euclidean == true_label:\n",
    "            correct += 1\n",
    "        \n",
    "    accuracy_euclidean = (correct / len(test_x)) * 100\n",
    "    \n",
    "    correct = 0    # reset correct value to 0\n",
    "    for i in range(len(test_x)):\n",
    "        sample = test_x.iloc[i]\n",
    "        true_label = test_y.iloc[i]\n",
    "        predicted_label_manhattan = knn(train_x, train_y, manhattan_distance, sample, k)\n",
    "        if predicted_label_manhattan == true_label:\n",
    "            correct += 1\n",
    "    accuracy_manhatten = (correct / len(test_x)) * 100\n",
    "    \n",
    "    print(\"model accuracy with euclidean is %0.2f\" %(accuracy_euclidean))\n",
    "    print(\"model accuracy with manhattan is %0.2f\" %(accuracy_manhatten))"
   ]
  },
  {
   "cell_type": "code",
   "execution_count": 89,
   "metadata": {},
   "outputs": [
    {
     "name": "stdout",
     "output_type": "stream",
     "text": [
      "model accuracy with euclidean is 96.15\n",
      "model accuracy with manhattan is 96.15\n"
     ]
    }
   ],
   "source": [
    "get_accuracy(test_x, test_y, train_x, train_y, 3)"
   ]
  },
  {
   "cell_type": "code",
   "execution_count": null,
   "metadata": {},
   "outputs": [],
   "source": []
  }
 ],
 "metadata": {
  "kernelspec": {
   "display_name": "Python 3",
   "language": "python",
   "name": "python3"
  },
  "language_info": {
   "codemirror_mode": {
    "name": "ipython",
    "version": 3
   },
   "file_extension": ".py",
   "mimetype": "text/x-python",
   "name": "python",
   "nbconvert_exporter": "python",
   "pygments_lexer": "ipython3",
   "version": "3.6.4"
  }
 },
 "nbformat": 4,
 "nbformat_minor": 2
}
